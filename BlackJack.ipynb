{
 "cells": [
  {
   "cell_type": "code",
   "execution_count": 1,
   "metadata": {},
   "outputs": [],
   "source": [
    "import random"
   ]
  },
  {
   "cell_type": "code",
   "execution_count": 2,
   "metadata": {},
   "outputs": [],
   "source": [
    "suits = ('Spades','Diamonds','Hearts','Clubs')"
   ]
  },
  {
   "cell_type": "code",
   "execution_count": 3,
   "metadata": {},
   "outputs": [],
   "source": [
    "ranks = ('Two','Three','Four','Five','Six','Seven','Eight','Nine','Ten','Jack','King','Queen','Ace')"
   ]
  },
  {
   "cell_type": "code",
   "execution_count": 4,
   "metadata": {},
   "outputs": [],
   "source": [
    "values = {'Two':2,'Three':3,'Four':4,'Five':5,'Six':6,'Seven':7,'Eight':8,'Nine':9,'Ten':10,'Jack':10,'King':10,'Queen':10,'Ace':11}"
   ]
  },
  {
   "cell_type": "code",
   "execution_count": 5,
   "metadata": {},
   "outputs": [],
   "source": [
    "playing = True"
   ]
  },
  {
   "cell_type": "code",
   "execution_count": 6,
   "metadata": {},
   "outputs": [],
   "source": [
    "class Card():\n",
    "    def __init__(self,suits,ranks):\n",
    "        self.suits = suits\n",
    "        self.ranks = ranks\n",
    "    def __str__(self):\n",
    "        return self.suits + 'of'+ self.ranks"
   ]
  },
  {
   "cell_type": "code",
   "execution_count": 7,
   "metadata": {},
   "outputs": [],
   "source": [
    "class Deck():\n",
    "    def __init__(self):\n",
    "        self.deck = []\n",
    "        for suit in suits:\n",
    "            for rank in ranks:\n",
    "                self.deck.append(Card(suit,rank))\n",
    "    def __str__(self):\n",
    "        deck_comp = ''\n",
    "        for card in self.deck:\n",
    "            deck_comp += '\\n' +card.__str__()\n",
    "        return 'the deck has:'+deck_comp\n",
    "    def shuffle(self):\n",
    "        random.shuffle(self.deck)\n",
    "    def deal(self):\n",
    "        single_card = self.deck.pop()\n",
    "        return single_card"
   ]
  },
  {
   "cell_type": "code",
   "execution_count": 8,
   "metadata": {},
   "outputs": [
    {
     "name": "stdout",
     "output_type": "stream",
     "text": [
      "the deck has:\n",
      "SpadesofTen\n",
      "DiamondsofEight\n",
      "ClubsofFour\n",
      "SpadesofFour\n",
      "SpadesofFive\n",
      "HeartsofKing\n",
      "DiamondsofTen\n",
      "HeartsofSeven\n",
      "DiamondsofQueen\n",
      "HeartsofThree\n",
      "SpadesofEight\n",
      "SpadesofSix\n",
      "HeartsofTen\n",
      "ClubsofTwo\n",
      "ClubsofSix\n",
      "SpadesofKing\n",
      "SpadesofTwo\n",
      "DiamondsofFive\n",
      "ClubsofSeven\n",
      "HeartsofAce\n",
      "ClubsofEight\n",
      "ClubsofAce\n",
      "ClubsofTen\n",
      "DiamondsofThree\n",
      "HeartsofQueen\n",
      "ClubsofFive\n",
      "ClubsofNine\n",
      "DiamondsofAce\n",
      "ClubsofQueen\n",
      "ClubsofJack\n",
      "HeartsofJack\n",
      "DiamondsofTwo\n",
      "ClubsofThree\n",
      "HeartsofFour\n",
      "HeartsofTwo\n",
      "DiamondsofSeven\n",
      "SpadesofQueen\n",
      "DiamondsofSix\n",
      "HeartsofEight\n",
      "SpadesofJack\n",
      "DiamondsofNine\n",
      "HeartsofFive\n",
      "DiamondsofFour\n",
      "SpadesofSeven\n",
      "HeartsofNine\n",
      "SpadesofThree\n",
      "DiamondsofKing\n",
      "HeartsofSix\n",
      "SpadesofNine\n",
      "ClubsofKing\n",
      "SpadesofAce\n",
      "DiamondsofJack\n"
     ]
    }
   ],
   "source": [
    "test_deck = Deck()\n",
    "test_deck.shuffle()\n",
    "print(test_deck)"
   ]
  },
  {
   "cell_type": "code",
   "execution_count": 9,
   "metadata": {},
   "outputs": [],
   "source": [
    "class Hand():\n",
    "    def __init__(self):\n",
    "        self.cards = []\n",
    "        self.value = 0\n",
    "        self.aces = 0\n",
    "    def add_card(self,card):\n",
    "        self.cards.append(card)\n",
    "        self.value += values[card.ranks]\n",
    "        if card.ranks == 'Ace':\n",
    "             self.aces += 1\n",
    "   \n",
    "    def ad_ace(self):\n",
    "        while self.value > 21 and self.aces:\n",
    "            self.value -= 10\n",
    "            self.aces -= 1\n",
    "    \n",
    "    \n",
    "    \n",
    "    \n",
    "    "
   ]
  },
  {
   "cell_type": "code",
   "execution_count": 10,
   "metadata": {},
   "outputs": [
    {
     "name": "stdout",
     "output_type": "stream",
     "text": [
      "SpadesofKing\n",
      "10\n"
     ]
    }
   ],
   "source": [
    "test_deck = Deck()\n",
    "test_deck.shuffle()\n",
    "test_player = Hand()\n",
    "pulled_card =test_deck.deal()\n",
    "print(pulled_card)\n",
    "test_player.add_card(pulled_card)\n",
    "print(test_player.value)\n",
    "\n"
   ]
  },
  {
   "cell_type": "code",
   "execution_count": 18,
   "metadata": {},
   "outputs": [],
   "source": [
    "class Chips:\n",
    "    def __init__(self,total=100):\n",
    "        self.total =  total\n",
    "        self.bet = 0\n",
    "    def win_bet(self):\n",
    "        self.total += self.bet\n",
    "    def lose_bet(self):\n",
    "        self.total -= self.bet"
   ]
  },
  {
   "cell_type": "code",
   "execution_count": 19,
   "metadata": {},
   "outputs": [],
   "source": [
    "def take_bet(chips):\n",
    "    while True:\n",
    "        try:\n",
    "            chips.bet = int(input('How many chips you want to bet'))\n",
    "        except:\n",
    "            print('Sorry, a bet must be an integer!')\n",
    "        else:\n",
    "            if chips.bet > chips.total:\n",
    "                print('Sorry,your bet cant exceed',chips.total)\n",
    "            else:\n",
    "                break\n",
    "    "
   ]
  },
  {
   "cell_type": "code",
   "execution_count": 20,
   "metadata": {},
   "outputs": [],
   "source": [
    "def hit(deck,hand):\n",
    "    hand.add_card(deck.deal())\n",
    "    hand.ad_ace()"
   ]
  },
  {
   "cell_type": "code",
   "execution_count": 21,
   "metadata": {},
   "outputs": [],
   "source": [
    "def hit_or_stand(deck,hand):\n",
    "    global playing\n",
    "    while True:\n",
    "        x = input('enter hit or stand h/s:')\n",
    "        if x[0].lower() == 'h':\n",
    "            hit(deck,hand)\n",
    "        elif x[0].lower() == 's':\n",
    "            print('player stand dealer turn:')\n",
    "            playing = False\n",
    "        else:\n",
    "            print('I did not understand enter h or s')\n",
    "        break"
   ]
  },
  {
   "cell_type": "code",
   "execution_count": 22,
   "metadata": {},
   "outputs": [],
   "source": [
    "def player_busts(player,dealer,chips):\n",
    "    print('player busts,player lost')\n",
    "    chips.lose_bet()\n",
    "def player_wins(player,dealer,chips):\n",
    "    print('player wins')\n",
    "    chips.win_bet()\n",
    "def dealer_busts(player,dealer,chips):\n",
    "    print('dealer busts,dealer lost')\n",
    "    chips.lose_bet()\n",
    "def dealer_wins(player,dealer,chips):\n",
    "    print('Dealer wins')\n",
    "    chips.win_bet()\n",
    "def push(player,dealer):\n",
    "    print('match Draw')\n",
    "    "
   ]
  },
  {
   "cell_type": "code",
   "execution_count": 23,
   "metadata": {},
   "outputs": [],
   "source": [
    "def show_some(player,dealer):\n",
    "    print('Dealer Hand:')\n",
    "    print('One Card Hidden')\n",
    "    print(dealer.cards[1])\n",
    "    print('Player Hand:')\n",
    "    for cards in player.cards:\n",
    "        print(cards)\n",
    "def show_all(player,dealer):\n",
    "    print('Dealer Hand:')\n",
    "    for cards in dealer.cards:\n",
    "        print(cards)\n",
    "    print('Player Hand:')\n",
    "    for cards in player.cards:\n",
    "        print(cards)\n",
    "    \n",
    "    "
   ]
  },
  {
   "cell_type": "code",
   "execution_count": null,
   "metadata": {},
   "outputs": [
    {
     "name": "stdout",
     "output_type": "stream",
     "text": [
      "Welcome To BlackJack\n",
      "How many chips you want to bet55\n",
      "Dealer Hand:\n",
      "One Card Hidden\n",
      "DiamondsofJack\n",
      "Player Hand:\n",
      "HeartsofKing\n",
      "DiamondsofSix\n",
      "total number of chips:100\n"
     ]
    }
   ],
   "source": [
    "while True:\n",
    "    print('Welcome To BlackJack')\n",
    "    deck = Deck()\n",
    "    deck.shuffle()\n",
    "    player_hand = Hand()\n",
    "    player_hand.add_card(deck.deal())\n",
    "    player_hand.add_card(deck.deal())\n",
    "    \n",
    "    dealer_hand = Hand()\n",
    "    dealer_hand.add_card(deck.deal())\n",
    "    dealer_hand.add_card(deck.deal())\n",
    "    player_chips = Chips()\n",
    "    take_bet(player_chips)\n",
    "    show_some(player_hand,dealer_hand)\n",
    "    while playing:\n",
    "        hit_or_stand(deck,player_hand)\n",
    "        show_some(player_hand,dealer_hand)\n",
    "        if player_hand.value > 21:\n",
    "            player_busts(player_hand,dealer_hand,player_chips)\n",
    "        break\n",
    "    if player_hand.value <=21:\n",
    "        while dealer_hand.value < player_hand.value:\n",
    "            hit(deck,dealer_hand)\n",
    "            show_all(player_hand,dealer_hand)\n",
    "            if dealer_hand.value > 21:\n",
    "                dealer_busts(player_hand,dealer_hand,player_chips)\n",
    "            elif dealer_hand.value > player_hand.value:\n",
    "                dealer_wins(player_hand,dealer_hand,player_chips)\n",
    "            elif dealer_hand.value < player_hand.value:\n",
    "                player_wins(player_hand,dealer_hand,player_chips)\n",
    "            else:\n",
    "                push(player_hand,dealer_hand)\n",
    "    \n",
    "    \n",
    "    print('total number of chips:{0}'.format(player_chips.total))\n",
    "    \n",
    "    new_game = input('Want to play again? Y/N:')\n",
    "    if new_game[0].lower == 'y':\n",
    "        playing = True\n",
    "    else:\n",
    "        print('Thanks for Playing')\n",
    "        \n",
    "    \n",
    "    "
   ]
  },
  {
   "cell_type": "code",
   "execution_count": null,
   "metadata": {},
   "outputs": [],
   "source": []
  },
  {
   "cell_type": "code",
   "execution_count": null,
   "metadata": {},
   "outputs": [],
   "source": []
  }
 ],
 "metadata": {
  "kernelspec": {
   "display_name": "Python 3",
   "language": "python",
   "name": "python3"
  },
  "language_info": {
   "codemirror_mode": {
    "name": "ipython",
    "version": 3
   },
   "file_extension": ".py",
   "mimetype": "text/x-python",
   "name": "python",
   "nbconvert_exporter": "python",
   "pygments_lexer": "ipython3",
   "version": "3.7.0"
  }
 },
 "nbformat": 4,
 "nbformat_minor": 2
}
